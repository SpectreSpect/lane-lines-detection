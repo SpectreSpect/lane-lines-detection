{
 "cells": [
  {
   "cell_type": "code",
   "execution_count": 253,
   "metadata": {},
   "outputs": [],
   "source": [
    "import pandas as pd\n",
    "import os\n",
    "import matplotlib.pyplot as plt\n",
    "import yaml"
   ]
  },
  {
   "cell_type": "code",
   "execution_count": 254,
   "metadata": {},
   "outputs": [],
   "source": [
    "def get_file_names(path: str):\n",
    "    file_names = []\n",
    "    for name in os.listdir(path):\n",
    "        full_path = os.path.join(path, name)\n",
    "        if os.path.isfile(full_path):\n",
    "            file_names.append(name)\n",
    "    return file_names\n",
    "\n",
    "\n",
    "def get_labels_df(path: str):\n",
    "    file_names = get_file_names(path)\n",
    "    labels = []\n",
    "    for filename in file_names:\n",
    "        full_path = os.path.join(path, filename)\n",
    "        with open(full_path, 'r') as file:\n",
    "            lines = file.readlines()\n",
    "            for line in lines:\n",
    "                label = line.split(' ', 1)[0]\n",
    "                labels.append(label)\n",
    "    df = pd.DataFrame({'labels': labels})\n",
    "    return df\n",
    "\n",
    "\n",
    "def get_label_names(config_path: str) -> list:\n",
    "    with open(config_path, 'r') as file:\n",
    "        config = yaml.safe_load(file)\n",
    "        label_names = config[\"names\"]\n",
    "    return label_names"
   ]
  },
  {
   "cell_type": "code",
   "execution_count": 255,
   "metadata": {},
   "outputs": [],
   "source": [
    "label_names = get_label_names(\"../config.yaml\")\n",
    "df = get_labels_df(\"../data/yolov8-sizefull-val02-fmasks/labels/train\")"
   ]
  },
  {
   "cell_type": "code",
   "execution_count": 256,
   "metadata": {},
   "outputs": [
    {
     "name": "stdout",
     "output_type": "stream",
     "text": [
      "<class 'pandas.core.frame.DataFrame'>\n",
      "RangeIndex: 33945 entries, 0 to 33944\n",
      "Data columns (total 1 columns):\n",
      " #   Column  Non-Null Count  Dtype \n",
      "---  ------  --------------  ----- \n",
      " 0   labels  33945 non-null  object\n",
      "dtypes: object(1)\n",
      "memory usage: 265.3+ KB\n"
     ]
    }
   ],
   "source": [
    "df.info()"
   ]
  },
  {
   "cell_type": "code",
   "execution_count": 257,
   "metadata": {},
   "outputs": [
    {
     "data": {
      "text/html": [
       "<div>\n",
       "<style scoped>\n",
       "    .dataframe tbody tr th:only-of-type {\n",
       "        vertical-align: middle;\n",
       "    }\n",
       "\n",
       "    .dataframe tbody tr th {\n",
       "        vertical-align: top;\n",
       "    }\n",
       "\n",
       "    .dataframe thead th {\n",
       "        text-align: right;\n",
       "    }\n",
       "</style>\n",
       "<table border=\"1\" class=\"dataframe\">\n",
       "  <thead>\n",
       "    <tr style=\"text-align: right;\">\n",
       "      <th></th>\n",
       "      <th>labels</th>\n",
       "    </tr>\n",
       "  </thead>\n",
       "  <tbody>\n",
       "    <tr>\n",
       "      <th>count</th>\n",
       "      <td>33945</td>\n",
       "    </tr>\n",
       "    <tr>\n",
       "      <th>unique</th>\n",
       "      <td>11</td>\n",
       "    </tr>\n",
       "    <tr>\n",
       "      <th>top</th>\n",
       "      <td>2</td>\n",
       "    </tr>\n",
       "    <tr>\n",
       "      <th>freq</th>\n",
       "      <td>11770</td>\n",
       "    </tr>\n",
       "  </tbody>\n",
       "</table>\n",
       "</div>"
      ],
      "text/plain": [
       "       labels\n",
       "count   33945\n",
       "unique     11\n",
       "top         2\n",
       "freq    11770"
      ]
     },
     "execution_count": 257,
     "metadata": {},
     "output_type": "execute_result"
    }
   ],
   "source": [
    "df.describe()"
   ]
  },
  {
   "cell_type": "code",
   "execution_count": 258,
   "metadata": {},
   "outputs": [],
   "source": [
    "value_counts = df['labels'].value_counts()\n",
    "value_counts_normalized = df['labels'].value_counts(normalize=True)"
   ]
  },
  {
   "cell_type": "code",
   "execution_count": 259,
   "metadata": {},
   "outputs": [
    {
     "data": {
      "text/html": [
       "<div>\n",
       "<style scoped>\n",
       "    .dataframe tbody tr th:only-of-type {\n",
       "        vertical-align: middle;\n",
       "    }\n",
       "\n",
       "    .dataframe tbody tr th {\n",
       "        vertical-align: top;\n",
       "    }\n",
       "\n",
       "    .dataframe thead th {\n",
       "        text-align: right;\n",
       "    }\n",
       "</style>\n",
       "<table border=\"1\" class=\"dataframe\">\n",
       "  <thead>\n",
       "    <tr style=\"text-align: right;\">\n",
       "      <th></th>\n",
       "      <th>abs</th>\n",
       "      <th>norm</th>\n",
       "    </tr>\n",
       "    <tr>\n",
       "      <th>labels</th>\n",
       "      <th></th>\n",
       "      <th></th>\n",
       "    </tr>\n",
       "  </thead>\n",
       "  <tbody>\n",
       "    <tr>\n",
       "      <th>white-solid</th>\n",
       "      <td>11770</td>\n",
       "      <td>0.346737</td>\n",
       "    </tr>\n",
       "    <tr>\n",
       "      <th>white-dash</th>\n",
       "      <td>8101</td>\n",
       "      <td>0.238651</td>\n",
       "    </tr>\n",
       "    <tr>\n",
       "      <th>double-yellow-solid</th>\n",
       "      <td>4423</td>\n",
       "      <td>0.130299</td>\n",
       "    </tr>\n",
       "    <tr>\n",
       "      <th>left-curbside</th>\n",
       "      <td>4147</td>\n",
       "      <td>0.122168</td>\n",
       "    </tr>\n",
       "    <tr>\n",
       "      <th>right-curbside</th>\n",
       "      <td>4105</td>\n",
       "      <td>0.120931</td>\n",
       "    </tr>\n",
       "    <tr>\n",
       "      <th>yellow-solid</th>\n",
       "      <td>656</td>\n",
       "      <td>0.019325</td>\n",
       "    </tr>\n",
       "    <tr>\n",
       "      <th>yellow-lsolid-rdash</th>\n",
       "      <td>315</td>\n",
       "      <td>0.009280</td>\n",
       "    </tr>\n",
       "    <tr>\n",
       "      <th>double-white-solid</th>\n",
       "      <td>190</td>\n",
       "      <td>0.005597</td>\n",
       "    </tr>\n",
       "    <tr>\n",
       "      <th>yellow-ldash-rsolid</th>\n",
       "      <td>176</td>\n",
       "      <td>0.005185</td>\n",
       "    </tr>\n",
       "    <tr>\n",
       "      <th>yellow-dash</th>\n",
       "      <td>61</td>\n",
       "      <td>0.001797</td>\n",
       "    </tr>\n",
       "    <tr>\n",
       "      <th>double-white-dash</th>\n",
       "      <td>1</td>\n",
       "      <td>0.000029</td>\n",
       "    </tr>\n",
       "  </tbody>\n",
       "</table>\n",
       "</div>"
      ],
      "text/plain": [
       "                       abs      norm\n",
       "labels                              \n",
       "white-solid          11770  0.346737\n",
       "white-dash            8101  0.238651\n",
       "double-yellow-solid   4423  0.130299\n",
       "left-curbside         4147  0.122168\n",
       "right-curbside        4105  0.120931\n",
       "yellow-solid           656  0.019325\n",
       "yellow-lsolid-rdash    315  0.009280\n",
       "double-white-solid     190  0.005597\n",
       "yellow-ldash-rsolid    176  0.005185\n",
       "yellow-dash             61  0.001797\n",
       "double-white-dash        1  0.000029"
      ]
     },
     "execution_count": 259,
     "metadata": {},
     "output_type": "execute_result"
    }
   ],
   "source": [
    "names_dict = {str(i): name for i, name in enumerate(label_names)}\n",
    "\n",
    "value_counts.index = value_counts.index.map(names_dict)\n",
    "value_counts_normalized.index = value_counts_normalized.index.map(names_dict)\n",
    "\n",
    "value_counts_df = pd.DataFrame({'abs': value_counts, 'norm': value_counts_normalized})\n",
    "\n",
    "value_counts_df"
   ]
  },
  {
   "cell_type": "code",
   "execution_count": 261,
   "metadata": {},
   "outputs": [
    {
     "data": {
      "image/png": "[encoded data removed]",
      "text/plain": [
       "<Figure size 640x480 with 1 Axes>"
      ]
     },
     "metadata": {},
     "output_type": "display_data"
    }
   ],
   "source": [
    "value_counts_df['abs'].plot(kind='bar')\n",
    "plt.show()"
   ]
  }
 ],
 "metadata": {
  "kernelspec": {
   "display_name": "Python 3",
   "language": "python",
   "name": "python3"
  },
  "language_info": {
   "codemirror_mode": {
    "name": "ipython",
    "version": 3
   },
   "file_extension": ".py",
   "mimetype": "text/x-python",
   "name": "python",
   "nbconvert_exporter": "python",
   "pygments_lexer": "ipython3",
   "version": "3.11.4"
  }
 },
 "nbformat": 4,
 "nbformat_minor": 2
}
